{
 "cells": [
  {
   "cell_type": "code",
   "execution_count": 6,
   "id": "747e6e90-d07b-48f3-9776-9b870a18eb0c",
   "metadata": {},
   "outputs": [
    {
     "name": "stderr",
     "output_type": "stream",
     "text": [
      "\n",
      "Attaching package: ‘dplyr’\n",
      "\n",
      "\n",
      "The following objects are masked from ‘package:stats’:\n",
      "\n",
      "    filter, lag\n",
      "\n",
      "\n",
      "The following objects are masked from ‘package:base’:\n",
      "\n",
      "    intersect, setdiff, setequal, union\n",
      "\n",
      "\n"
     ]
    }
   ],
   "source": [
    "library(dplyr)"
   ]
  },
  {
   "cell_type": "code",
   "execution_count": 16,
   "id": "2283e5c3-2968-4258-b6fd-ddb5ba0e4657",
   "metadata": {},
   "outputs": [],
   "source": [
    "# read datasets\n",
    "pkm_raw = read.csv(\"https://shorturl.at/tvCPV\")"
   ]
  },
  {
   "cell_type": "code",
   "execution_count": 28,
   "id": "f0ac49be-1ce1-417e-a768-1f6f8bfa475e",
   "metadata": {},
   "outputs": [
    {
     "data": {
      "text/html": [
       "<table class=\"dataframe\">\n",
       "<caption>A data.frame: 3 × 41</caption>\n",
       "<thead>\n",
       "\t<tr><th></th><th scope=col>abilities</th><th scope=col>against_bug</th><th scope=col>against_dark</th><th scope=col>against_dragon</th><th scope=col>against_electric</th><th scope=col>against_fairy</th><th scope=col>against_fight</th><th scope=col>against_fire</th><th scope=col>against_flying</th><th scope=col>against_ghost</th><th scope=col>⋯</th><th scope=col>percentage_male</th><th scope=col>pokedex_number</th><th scope=col>sp_attack</th><th scope=col>sp_defense</th><th scope=col>speed</th><th scope=col>type1</th><th scope=col>type2</th><th scope=col>weight_kg</th><th scope=col>generation</th><th scope=col>is_legendary</th></tr>\n",
       "\t<tr><th></th><th scope=col>&lt;chr&gt;</th><th scope=col>&lt;dbl&gt;</th><th scope=col>&lt;dbl&gt;</th><th scope=col>&lt;dbl&gt;</th><th scope=col>&lt;dbl&gt;</th><th scope=col>&lt;dbl&gt;</th><th scope=col>&lt;dbl&gt;</th><th scope=col>&lt;dbl&gt;</th><th scope=col>&lt;dbl&gt;</th><th scope=col>&lt;dbl&gt;</th><th scope=col>⋯</th><th scope=col>&lt;dbl&gt;</th><th scope=col>&lt;int&gt;</th><th scope=col>&lt;int&gt;</th><th scope=col>&lt;int&gt;</th><th scope=col>&lt;int&gt;</th><th scope=col>&lt;chr&gt;</th><th scope=col>&lt;chr&gt;</th><th scope=col>&lt;dbl&gt;</th><th scope=col>&lt;int&gt;</th><th scope=col>&lt;int&gt;</th></tr>\n",
       "</thead>\n",
       "<tbody>\n",
       "\t<tr><th scope=row>799</th><td>['Beast Boost']</td><td>2.00</td><td>0.5</td><td>2</td><td>0.5</td><td>4.0</td><td>2.0</td><td>0.5</td><td>1.0</td><td>0.5</td><td>⋯</td><td>NA</td><td>799</td><td> 97</td><td> 53</td><td>43</td><td>dark   </td><td>dragon</td><td>888.0</td><td>7</td><td>1</td></tr>\n",
       "\t<tr><th scope=row>800</th><td>['Prism Armor']</td><td>2.00</td><td>2.0</td><td>1</td><td>1.0</td><td>1.0</td><td>0.5</td><td>1.0</td><td>1.0</td><td>2.0</td><td>⋯</td><td>NA</td><td>800</td><td>127</td><td> 89</td><td>79</td><td>psychic</td><td>      </td><td>230.0</td><td>7</td><td>1</td></tr>\n",
       "\t<tr><th scope=row>801</th><td>['Soul-Heart'] </td><td>0.25</td><td>0.5</td><td>0</td><td>1.0</td><td>0.5</td><td>1.0</td><td>2.0</td><td>0.5</td><td>1.0</td><td>⋯</td><td>NA</td><td>801</td><td>130</td><td>115</td><td>65</td><td>steel  </td><td>fairy </td><td> 80.5</td><td>7</td><td>1</td></tr>\n",
       "</tbody>\n",
       "</table>\n"
      ],
      "text/latex": [
       "A data.frame: 3 × 41\n",
       "\\begin{tabular}{r|lllllllllllllllllllll}\n",
       "  & abilities & against\\_bug & against\\_dark & against\\_dragon & against\\_electric & against\\_fairy & against\\_fight & against\\_fire & against\\_flying & against\\_ghost & ⋯ & percentage\\_male & pokedex\\_number & sp\\_attack & sp\\_defense & speed & type1 & type2 & weight\\_kg & generation & is\\_legendary\\\\\n",
       "  & <chr> & <dbl> & <dbl> & <dbl> & <dbl> & <dbl> & <dbl> & <dbl> & <dbl> & <dbl> & ⋯ & <dbl> & <int> & <int> & <int> & <int> & <chr> & <chr> & <dbl> & <int> & <int>\\\\\n",
       "\\hline\n",
       "\t799 & {[}'Beast Boost'{]} & 2.00 & 0.5 & 2 & 0.5 & 4.0 & 2.0 & 0.5 & 1.0 & 0.5 & ⋯ & NA & 799 &  97 &  53 & 43 & dark    & dragon & 888.0 & 7 & 1\\\\\n",
       "\t800 & {[}'Prism Armor'{]} & 2.00 & 2.0 & 1 & 1.0 & 1.0 & 0.5 & 1.0 & 1.0 & 2.0 & ⋯ & NA & 800 & 127 &  89 & 79 & psychic &        & 230.0 & 7 & 1\\\\\n",
       "\t801 & {[}'Soul-Heart'{]}  & 0.25 & 0.5 & 0 & 1.0 & 0.5 & 1.0 & 2.0 & 0.5 & 1.0 & ⋯ & NA & 801 & 130 & 115 & 65 & steel   & fairy  &  80.5 & 7 & 1\\\\\n",
       "\\end{tabular}\n"
      ],
      "text/markdown": [
       "\n",
       "A data.frame: 3 × 41\n",
       "\n",
       "| <!--/--> | abilities &lt;chr&gt; | against_bug &lt;dbl&gt; | against_dark &lt;dbl&gt; | against_dragon &lt;dbl&gt; | against_electric &lt;dbl&gt; | against_fairy &lt;dbl&gt; | against_fight &lt;dbl&gt; | against_fire &lt;dbl&gt; | against_flying &lt;dbl&gt; | against_ghost &lt;dbl&gt; | ⋯ ⋯ | percentage_male &lt;dbl&gt; | pokedex_number &lt;int&gt; | sp_attack &lt;int&gt; | sp_defense &lt;int&gt; | speed &lt;int&gt; | type1 &lt;chr&gt; | type2 &lt;chr&gt; | weight_kg &lt;dbl&gt; | generation &lt;int&gt; | is_legendary &lt;int&gt; |\n",
       "|---|---|---|---|---|---|---|---|---|---|---|---|---|---|---|---|---|---|---|---|---|---|\n",
       "| 799 | ['Beast Boost'] | 2.00 | 0.5 | 2 | 0.5 | 4.0 | 2.0 | 0.5 | 1.0 | 0.5 | ⋯ | NA | 799 |  97 |  53 | 43 | dark    | dragon | 888.0 | 7 | 1 |\n",
       "| 800 | ['Prism Armor'] | 2.00 | 2.0 | 1 | 1.0 | 1.0 | 0.5 | 1.0 | 1.0 | 2.0 | ⋯ | NA | 800 | 127 |  89 | 79 | psychic | <!----> | 230.0 | 7 | 1 |\n",
       "| 801 | ['Soul-Heart']  | 0.25 | 0.5 | 0 | 1.0 | 0.5 | 1.0 | 2.0 | 0.5 | 1.0 | ⋯ | NA | 801 | 130 | 115 | 65 | steel   | fairy  |  80.5 | 7 | 1 |\n",
       "\n"
      ],
      "text/plain": [
       "    abilities       against_bug against_dark against_dragon against_electric\n",
       "799 ['Beast Boost'] 2.00        0.5          2              0.5             \n",
       "800 ['Prism Armor'] 2.00        2.0          1              1.0             \n",
       "801 ['Soul-Heart']  0.25        0.5          0              1.0             \n",
       "    against_fairy against_fight against_fire against_flying against_ghost ⋯\n",
       "799 4.0           2.0           0.5          1.0            0.5           ⋯\n",
       "800 1.0           0.5           1.0          1.0            2.0           ⋯\n",
       "801 0.5           1.0           2.0          0.5            1.0           ⋯\n",
       "    percentage_male pokedex_number sp_attack sp_defense speed type1   type2 \n",
       "799 NA              799             97        53        43    dark    dragon\n",
       "800 NA              800            127        89        79    psychic       \n",
       "801 NA              801            130       115        65    steel   fairy \n",
       "    weight_kg generation is_legendary\n",
       "799 888.0     7          1           \n",
       "800 230.0     7          1           \n",
       "801  80.5     7          1           "
      ]
     },
     "metadata": {},
     "output_type": "display_data"
    }
   ],
   "source": [
    "tail(pkm_raw,  n = 3)"
   ]
  },
  {
   "cell_type": "code",
   "execution_count": 31,
   "id": "f7d79399-f015-4d7d-8979-f0246f3b2db0",
   "metadata": {},
   "outputs": [
    {
     "name": "stdout",
     "output_type": "stream",
     "text": [
      "'data.frame':\t801 obs. of  41 variables:\n",
      " $ abilities        : chr  \"['Overgrow', 'Chlorophyll']\" \"['Overgrow', 'Chlorophyll']\" \"['Overgrow', 'Chlorophyll']\" \"['Blaze', 'Solar Power']\" ...\n",
      " $ against_bug      : num  1 1 1 0.5 0.5 0.25 1 1 1 1 ...\n",
      " $ against_dark     : num  1 1 1 1 1 1 1 1 1 1 ...\n",
      " $ against_dragon   : num  1 1 1 1 1 1 1 1 1 1 ...\n",
      " $ against_electric : num  0.5 0.5 0.5 1 1 2 2 2 2 1 ...\n",
      " $ against_fairy    : num  0.5 0.5 0.5 0.5 0.5 0.5 1 1 1 1 ...\n",
      " $ against_fight    : num  0.5 0.5 0.5 1 1 0.5 1 1 1 0.5 ...\n",
      " $ against_fire     : num  2 2 2 0.5 0.5 0.5 0.5 0.5 0.5 2 ...\n",
      " $ against_flying   : num  2 2 2 1 1 1 1 1 1 2 ...\n",
      " $ against_ghost    : num  1 1 1 1 1 1 1 1 1 1 ...\n",
      " $ against_grass    : num  0.25 0.25 0.25 0.5 0.5 0.25 2 2 2 0.5 ...\n",
      " $ against_ground   : num  1 1 1 2 2 0 1 1 1 0.5 ...\n",
      " $ against_ice      : num  2 2 2 0.5 0.5 1 0.5 0.5 0.5 1 ...\n",
      " $ against_normal   : num  1 1 1 1 1 1 1 1 1 1 ...\n",
      " $ against_poison   : num  1 1 1 1 1 1 1 1 1 1 ...\n",
      " $ against_psychic  : num  2 2 2 1 1 1 1 1 1 1 ...\n",
      " $ against_rock     : num  1 1 1 2 2 4 1 1 1 2 ...\n",
      " $ against_steel    : num  1 1 1 0.5 0.5 0.5 0.5 0.5 0.5 1 ...\n",
      " $ against_water    : num  0.5 0.5 0.5 2 2 2 0.5 0.5 0.5 1 ...\n",
      " $ attack           : int  49 62 100 52 64 104 48 63 103 30 ...\n",
      " $ base_egg_steps   : int  5120 5120 5120 5120 5120 5120 5120 5120 5120 3840 ...\n",
      " $ base_happiness   : int  70 70 70 70 70 70 70 70 70 70 ...\n",
      " $ base_total       : int  318 405 625 309 405 634 314 405 630 195 ...\n",
      " $ capture_rate     : chr  \"45\" \"45\" \"45\" \"45\" ...\n",
      " $ classfication    : chr  \"Seed Pok\\xa8\\xa6mon\" \"Seed Pok\\xa8\\xa6mon\" \"Seed Pok\\xa8\\xa6mon\" \"Lizard Pok\\xa8\\xa6mon\" ...\n",
      " $ defense          : int  49 63 123 43 58 78 65 80 120 35 ...\n",
      " $ experience_growth: int  1059860 1059860 1059860 1059860 1059860 1059860 1059860 1059860 1059860 1000000 ...\n",
      " $ height_m         : num  0.7 1 2 0.6 1.1 1.7 0.5 1 1.6 0.3 ...\n",
      " $ hp               : int  45 60 80 39 58 78 44 59 79 45 ...\n",
      " $ japanese_name    : chr  \"Fushigidane\\xa5ե\\xb7\\xa5\\xae\\xa5\\xc0\\xa5\\xcd\" \"Fushigisou\\xa5ե\\xb7\\xa5\\xae\\xa5\\xbd\\xa5\\xa6\" \"Fushigibana\\xa5ե\\xb7\\xa5\\xae\\xa5Х\\xca\" \"Hitokage\\xa5ҥȥ\\xab\\xa5\\xb2\" ...\n",
      " $ name             : chr  \"Bulbasaur\" \"Ivysaur\" \"Venusaur\" \"Charmander\" ...\n",
      " $ percentage_male  : num  88.1 88.1 88.1 88.1 88.1 88.1 88.1 88.1 88.1 50 ...\n",
      " $ pokedex_number   : int  1 2 3 4 5 6 7 8 9 10 ...\n",
      " $ sp_attack        : int  65 80 122 60 80 159 50 65 135 20 ...\n",
      " $ sp_defense       : int  65 80 120 50 65 115 64 80 115 20 ...\n",
      " $ speed            : int  45 60 80 65 80 100 43 58 78 45 ...\n",
      " $ type1            : chr  \"grass\" \"grass\" \"grass\" \"fire\" ...\n",
      " $ type2            : chr  \"poison\" \"poison\" \"poison\" \"\" ...\n",
      " $ weight_kg        : num  6.9 13 100 8.5 19 90.5 9 22.5 85.5 2.9 ...\n",
      " $ generation       : int  1 1 1 1 1 1 1 1 1 1 ...\n",
      " $ is_legendary     : int  0 0 0 0 0 0 0 0 0 0 ...\n"
     ]
    }
   ],
   "source": [
    "str(pkm_raw)"
   ]
  },
  {
   "cell_type": "code",
   "execution_count": null,
   "id": "76c3871a-e737-47ed-90e2-881f18713cdd",
   "metadata": {},
   "outputs": [],
   "source": []
  }
 ],
 "metadata": {
  "kernelspec": {
   "display_name": "R",
   "language": "R",
   "name": "ir"
  },
  "language_info": {
   "codemirror_mode": "r",
   "file_extension": ".r",
   "mimetype": "text/x-r-source",
   "name": "R",
   "pygments_lexer": "r",
   "version": "4.2.1"
  }
 },
 "nbformat": 4,
 "nbformat_minor": 5
}
