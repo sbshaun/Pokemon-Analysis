{
 "cells": [
  {
   "cell_type": "code",
   "execution_count": 1,
   "id": "747e6e90-d07b-48f3-9776-9b870a18eb0c",
   "metadata": {},
   "outputs": [
    {
     "name": "stderr",
     "output_type": "stream",
     "text": [
      "\n",
      "Attaching package: ‘dplyr’\n",
      "\n",
      "\n",
      "The following objects are masked from ‘package:stats’:\n",
      "\n",
      "    filter, lag\n",
      "\n",
      "\n",
      "The following objects are masked from ‘package:base’:\n",
      "\n",
      "    intersect, setdiff, setequal, union\n",
      "\n",
      "\n"
     ]
    }
   ],
   "source": [
    "library(dplyr)"
   ]
  },
  {
   "cell_type": "code",
   "execution_count": 21,
   "id": "2283e5c3-2968-4258-b6fd-ddb5ba0e4657",
   "metadata": {},
   "outputs": [],
   "source": [
    "# read datasets\n",
    "data_2015 = read.csv(\"./data/2015.csv\")\n",
    "data_2016 = read.csv(\"./data/2016.csv\")\n",
    "data_2017 = read.csv(\"./data/2017.csv\")\n",
    "data_2018 = read.csv(\"./data/2018.csv\")\n",
    "data_2019 = read.csv(\"./data/2019.csv\")\n",
    "data_2020 = read.csv(\"./data/2020.csv\")\n",
    "data_2021 = read.csv(\"./data/2021.csv\")\n",
    "data_2022 = read.csv(\"./data/2022.csv\")"
   ]
  },
  {
   "cell_type": "code",
   "execution_count": 22,
   "id": "742fb3bf-7d6f-461a-b929-71539baf660d",
   "metadata": {},
   "outputs": [],
   "source": [
    "# add year column before merging dataframes\n",
    "data_2015[\"year\"] = 2015\n",
    "data_2016[\"year\"] = 2016\n",
    "data_2017[\"year\"] = 2017\n",
    "data_2018[\"year\"] = 2018\n",
    "data_2019[\"year\"] = 2019\n",
    "data_2020[\"year\"] = 2020\n",
    "data_2021[\"year\"] = 2021\n",
    "data_2022[\"year\"] = 2022"
   ]
  },
  {
   "cell_type": "code",
   "execution_count": 27,
   "id": "9e453638-d188-45b1-a2da-12c581cae778",
   "metadata": {},
   "outputs": [],
   "source": [
    "df_list <- list(data_2015, data_2016, data_2017, data_2018, \n",
    "                data_2019, data_2020, data_2021, data_2022)"
   ]
  },
  {
   "cell_type": "code",
   "execution_count": 37,
   "id": "f5bb3475-29e5-4865-84cc-a58e70d49b8a",
   "metadata": {},
   "outputs": [
    {
     "data": {
      "text/plain": [
       "     Length Class      Mode\n",
       "[1,] 13     data.frame list\n",
       "[2,] 14     data.frame list\n",
       "[3,] 13     data.frame list\n",
       "[4,] 10     data.frame list\n",
       "[5,] 10     data.frame list\n",
       "[6,] 21     data.frame list\n",
       "[7,] 21     data.frame list\n",
       "[8,] 13     data.frame list"
      ]
     },
     "metadata": {},
     "output_type": "display_data"
    }
   ],
   "source": [
    "summary(df_list)"
   ]
  },
  {
   "cell_type": "markdown",
   "id": "28bd35db-11e5-4944-9084-17cf7dc88257",
   "metadata": {},
   "source": [
    "> TODO1. : Select 3-5 desired variables from common variables that all datasets have"
   ]
  },
  {
   "cell_type": "markdown",
   "id": "3478f7d4-5850-4bd3-9b3d-ced2d54578ef",
   "metadata": {},
   "source": [
    "> TODO2: Combine all dataframes"
   ]
  },
  {
   "cell_type": "code",
   "execution_count": 39,
   "id": "45511a34-f291-45f3-8fa1-c49fc44a3d11",
   "metadata": {},
   "outputs": [
    {
     "data": {
      "text/html": [
       "<table class=\"dataframe\">\n",
       "<caption>A data.frame: 6 × 21</caption>\n",
       "<thead>\n",
       "\t<tr><th></th><th scope=col>Country.name</th><th scope=col>Regional.indicator</th><th scope=col>Ladder.score</th><th scope=col>Standard.error.of.ladder.score</th><th scope=col>upperwhisker</th><th scope=col>lowerwhisker</th><th scope=col>Logged.GDP.per.capita</th><th scope=col>Social.support</th><th scope=col>Healthy.life.expectancy</th><th scope=col>Freedom.to.make.life.choices</th><th scope=col>⋯</th><th scope=col>Perceptions.of.corruption</th><th scope=col>Ladder.score.in.Dystopia</th><th scope=col>Explained.by..Log.GDP.per.capita</th><th scope=col>Explained.by..Social.support</th><th scope=col>Explained.by..Healthy.life.expectancy</th><th scope=col>Explained.by..Freedom.to.make.life.choices</th><th scope=col>Explained.by..Generosity</th><th scope=col>Explained.by..Perceptions.of.corruption</th><th scope=col>Dystopia...residual</th><th scope=col>year</th></tr>\n",
       "\t<tr><th></th><th scope=col>&lt;chr&gt;</th><th scope=col>&lt;chr&gt;</th><th scope=col>&lt;dbl&gt;</th><th scope=col>&lt;dbl&gt;</th><th scope=col>&lt;dbl&gt;</th><th scope=col>&lt;dbl&gt;</th><th scope=col>&lt;dbl&gt;</th><th scope=col>&lt;dbl&gt;</th><th scope=col>&lt;dbl&gt;</th><th scope=col>&lt;dbl&gt;</th><th scope=col>⋯</th><th scope=col>&lt;dbl&gt;</th><th scope=col>&lt;dbl&gt;</th><th scope=col>&lt;dbl&gt;</th><th scope=col>&lt;dbl&gt;</th><th scope=col>&lt;dbl&gt;</th><th scope=col>&lt;dbl&gt;</th><th scope=col>&lt;dbl&gt;</th><th scope=col>&lt;dbl&gt;</th><th scope=col>&lt;dbl&gt;</th><th scope=col>&lt;dbl&gt;</th></tr>\n",
       "</thead>\n",
       "<tbody>\n",
       "\t<tr><th scope=row>148</th><td>Tanzania                </td><td>Sub-Saharan Africa</td><td>3.4762</td><td>0.06320975</td><td>3.600091</td><td>3.352309</td><td>7.967665</td><td>0.6889332</td><td>57.49607</td><td>0.8215398</td><td>⋯</td><td>0.6197994</td><td>1.972317</td><td>0.45716313</td><td>0.8726746</td><td>0.4426779</td><td>0.50934309</td><td>0.2715409</td><td>0.203880861</td><td>0.7189634</td><td>2020</td></tr>\n",
       "\t<tr><th scope=row>149</th><td>Central African Republic</td><td>Sub-Saharan Africa</td><td>3.4759</td><td>0.11518295</td><td>3.701658</td><td>3.250141</td><td>6.625160</td><td>0.3194599</td><td>45.20000</td><td>0.6408806</td><td>⋯</td><td>0.8918067</td><td>1.972317</td><td>0.04107208</td><td>0.0000000</td><td>0.0000000</td><td>0.29281446</td><td>0.2535132</td><td>0.028264718</td><td>2.8601975</td><td>2020</td></tr>\n",
       "\t<tr><th scope=row>150</th><td>Rwanda                  </td><td>Sub-Saharan Africa</td><td>3.3123</td><td>0.05242521</td><td>3.415053</td><td>3.209547</td><td>7.600104</td><td>0.5408354</td><td>61.09885</td><td>0.9005894</td><td>⋯</td><td>0.1835412</td><td>1.972317</td><td>0.34324267</td><td>0.5228763</td><td>0.5723833</td><td>0.60408789</td><td>0.2357050</td><td>0.485542476</td><td>0.5484450</td><td>2020</td></tr>\n",
       "\t<tr><th scope=row>151</th><td>Zimbabwe                </td><td>Sub-Saharan Africa</td><td>3.2992</td><td>0.05867446</td><td>3.414202</td><td>3.184198</td><td>7.865712</td><td>0.7630928</td><td>55.61726</td><td>0.7114579</td><td>⋯</td><td>0.8102370</td><td>1.972317</td><td>0.42556402</td><td>1.0478352</td><td>0.3750376</td><td>0.37740472</td><td>0.1513492</td><td>0.080928579</td><td>0.8410311</td><td>2020</td></tr>\n",
       "\t<tr><th scope=row>152</th><td>South Sudan             </td><td>Sub-Saharan Africa</td><td>2.8166</td><td>0.10761040</td><td>3.027516</td><td>2.605684</td><td>7.425360</td><td>0.5537071</td><td>51.00000</td><td>0.4513136</td><td>⋯</td><td>0.7634173</td><td>1.972317</td><td>0.28908297</td><td>0.5532785</td><td>0.2088090</td><td>0.06560925</td><td>0.2099346</td><td>0.111156799</td><td>1.3787513</td><td>2020</td></tr>\n",
       "\t<tr><th scope=row>153</th><td>Afghanistan             </td><td>South Asia        </td><td>2.5669</td><td>0.03131143</td><td>2.628270</td><td>2.505530</td><td>7.462861</td><td>0.4703670</td><td>52.59000</td><td>0.3965730</td><td>⋯</td><td>0.9336866</td><td>1.972317</td><td>0.30070585</td><td>0.3564338</td><td>0.2660515</td><td>0.00000000</td><td>0.1352347</td><td>0.001225785</td><td>1.5072356</td><td>2020</td></tr>\n",
       "</tbody>\n",
       "</table>\n"
      ],
      "text/latex": [
       "A data.frame: 6 × 21\n",
       "\\begin{tabular}{r|lllllllllllllllllllll}\n",
       "  & Country.name & Regional.indicator & Ladder.score & Standard.error.of.ladder.score & upperwhisker & lowerwhisker & Logged.GDP.per.capita & Social.support & Healthy.life.expectancy & Freedom.to.make.life.choices & ⋯ & Perceptions.of.corruption & Ladder.score.in.Dystopia & Explained.by..Log.GDP.per.capita & Explained.by..Social.support & Explained.by..Healthy.life.expectancy & Explained.by..Freedom.to.make.life.choices & Explained.by..Generosity & Explained.by..Perceptions.of.corruption & Dystopia...residual & year\\\\\n",
       "  & <chr> & <chr> & <dbl> & <dbl> & <dbl> & <dbl> & <dbl> & <dbl> & <dbl> & <dbl> & ⋯ & <dbl> & <dbl> & <dbl> & <dbl> & <dbl> & <dbl> & <dbl> & <dbl> & <dbl> & <dbl>\\\\\n",
       "\\hline\n",
       "\t148 & Tanzania                 & Sub-Saharan Africa & 3.4762 & 0.06320975 & 3.600091 & 3.352309 & 7.967665 & 0.6889332 & 57.49607 & 0.8215398 & ⋯ & 0.6197994 & 1.972317 & 0.45716313 & 0.8726746 & 0.4426779 & 0.50934309 & 0.2715409 & 0.203880861 & 0.7189634 & 2020\\\\\n",
       "\t149 & Central African Republic & Sub-Saharan Africa & 3.4759 & 0.11518295 & 3.701658 & 3.250141 & 6.625160 & 0.3194599 & 45.20000 & 0.6408806 & ⋯ & 0.8918067 & 1.972317 & 0.04107208 & 0.0000000 & 0.0000000 & 0.29281446 & 0.2535132 & 0.028264718 & 2.8601975 & 2020\\\\\n",
       "\t150 & Rwanda                   & Sub-Saharan Africa & 3.3123 & 0.05242521 & 3.415053 & 3.209547 & 7.600104 & 0.5408354 & 61.09885 & 0.9005894 & ⋯ & 0.1835412 & 1.972317 & 0.34324267 & 0.5228763 & 0.5723833 & 0.60408789 & 0.2357050 & 0.485542476 & 0.5484450 & 2020\\\\\n",
       "\t151 & Zimbabwe                 & Sub-Saharan Africa & 3.2992 & 0.05867446 & 3.414202 & 3.184198 & 7.865712 & 0.7630928 & 55.61726 & 0.7114579 & ⋯ & 0.8102370 & 1.972317 & 0.42556402 & 1.0478352 & 0.3750376 & 0.37740472 & 0.1513492 & 0.080928579 & 0.8410311 & 2020\\\\\n",
       "\t152 & South Sudan              & Sub-Saharan Africa & 2.8166 & 0.10761040 & 3.027516 & 2.605684 & 7.425360 & 0.5537071 & 51.00000 & 0.4513136 & ⋯ & 0.7634173 & 1.972317 & 0.28908297 & 0.5532785 & 0.2088090 & 0.06560925 & 0.2099346 & 0.111156799 & 1.3787513 & 2020\\\\\n",
       "\t153 & Afghanistan              & South Asia         & 2.5669 & 0.03131143 & 2.628270 & 2.505530 & 7.462861 & 0.4703670 & 52.59000 & 0.3965730 & ⋯ & 0.9336866 & 1.972317 & 0.30070585 & 0.3564338 & 0.2660515 & 0.00000000 & 0.1352347 & 0.001225785 & 1.5072356 & 2020\\\\\n",
       "\\end{tabular}\n"
      ],
      "text/markdown": [
       "\n",
       "A data.frame: 6 × 21\n",
       "\n",
       "| <!--/--> | Country.name &lt;chr&gt; | Regional.indicator &lt;chr&gt; | Ladder.score &lt;dbl&gt; | Standard.error.of.ladder.score &lt;dbl&gt; | upperwhisker &lt;dbl&gt; | lowerwhisker &lt;dbl&gt; | Logged.GDP.per.capita &lt;dbl&gt; | Social.support &lt;dbl&gt; | Healthy.life.expectancy &lt;dbl&gt; | Freedom.to.make.life.choices &lt;dbl&gt; | ⋯ ⋯ | Perceptions.of.corruption &lt;dbl&gt; | Ladder.score.in.Dystopia &lt;dbl&gt; | Explained.by..Log.GDP.per.capita &lt;dbl&gt; | Explained.by..Social.support &lt;dbl&gt; | Explained.by..Healthy.life.expectancy &lt;dbl&gt; | Explained.by..Freedom.to.make.life.choices &lt;dbl&gt; | Explained.by..Generosity &lt;dbl&gt; | Explained.by..Perceptions.of.corruption &lt;dbl&gt; | Dystopia...residual &lt;dbl&gt; | year &lt;dbl&gt; |\n",
       "|---|---|---|---|---|---|---|---|---|---|---|---|---|---|---|---|---|---|---|---|---|---|\n",
       "| 148 | Tanzania                 | Sub-Saharan Africa | 3.4762 | 0.06320975 | 3.600091 | 3.352309 | 7.967665 | 0.6889332 | 57.49607 | 0.8215398 | ⋯ | 0.6197994 | 1.972317 | 0.45716313 | 0.8726746 | 0.4426779 | 0.50934309 | 0.2715409 | 0.203880861 | 0.7189634 | 2020 |\n",
       "| 149 | Central African Republic | Sub-Saharan Africa | 3.4759 | 0.11518295 | 3.701658 | 3.250141 | 6.625160 | 0.3194599 | 45.20000 | 0.6408806 | ⋯ | 0.8918067 | 1.972317 | 0.04107208 | 0.0000000 | 0.0000000 | 0.29281446 | 0.2535132 | 0.028264718 | 2.8601975 | 2020 |\n",
       "| 150 | Rwanda                   | Sub-Saharan Africa | 3.3123 | 0.05242521 | 3.415053 | 3.209547 | 7.600104 | 0.5408354 | 61.09885 | 0.9005894 | ⋯ | 0.1835412 | 1.972317 | 0.34324267 | 0.5228763 | 0.5723833 | 0.60408789 | 0.2357050 | 0.485542476 | 0.5484450 | 2020 |\n",
       "| 151 | Zimbabwe                 | Sub-Saharan Africa | 3.2992 | 0.05867446 | 3.414202 | 3.184198 | 7.865712 | 0.7630928 | 55.61726 | 0.7114579 | ⋯ | 0.8102370 | 1.972317 | 0.42556402 | 1.0478352 | 0.3750376 | 0.37740472 | 0.1513492 | 0.080928579 | 0.8410311 | 2020 |\n",
       "| 152 | South Sudan              | Sub-Saharan Africa | 2.8166 | 0.10761040 | 3.027516 | 2.605684 | 7.425360 | 0.5537071 | 51.00000 | 0.4513136 | ⋯ | 0.7634173 | 1.972317 | 0.28908297 | 0.5532785 | 0.2088090 | 0.06560925 | 0.2099346 | 0.111156799 | 1.3787513 | 2020 |\n",
       "| 153 | Afghanistan              | South Asia         | 2.5669 | 0.03131143 | 2.628270 | 2.505530 | 7.462861 | 0.4703670 | 52.59000 | 0.3965730 | ⋯ | 0.9336866 | 1.972317 | 0.30070585 | 0.3564338 | 0.2660515 | 0.00000000 | 0.1352347 | 0.001225785 | 1.5072356 | 2020 |\n",
       "\n"
      ],
      "text/plain": [
       "    Country.name             Regional.indicator Ladder.score\n",
       "148 Tanzania                 Sub-Saharan Africa 3.4762      \n",
       "149 Central African Republic Sub-Saharan Africa 3.4759      \n",
       "150 Rwanda                   Sub-Saharan Africa 3.3123      \n",
       "151 Zimbabwe                 Sub-Saharan Africa 3.2992      \n",
       "152 South Sudan              Sub-Saharan Africa 2.8166      \n",
       "153 Afghanistan              South Asia         2.5669      \n",
       "    Standard.error.of.ladder.score upperwhisker lowerwhisker\n",
       "148 0.06320975                     3.600091     3.352309    \n",
       "149 0.11518295                     3.701658     3.250141    \n",
       "150 0.05242521                     3.415053     3.209547    \n",
       "151 0.05867446                     3.414202     3.184198    \n",
       "152 0.10761040                     3.027516     2.605684    \n",
       "153 0.03131143                     2.628270     2.505530    \n",
       "    Logged.GDP.per.capita Social.support Healthy.life.expectancy\n",
       "148 7.967665              0.6889332      57.49607               \n",
       "149 6.625160              0.3194599      45.20000               \n",
       "150 7.600104              0.5408354      61.09885               \n",
       "151 7.865712              0.7630928      55.61726               \n",
       "152 7.425360              0.5537071      51.00000               \n",
       "153 7.462861              0.4703670      52.59000               \n",
       "    Freedom.to.make.life.choices ⋯ Perceptions.of.corruption\n",
       "148 0.8215398                    ⋯ 0.6197994                \n",
       "149 0.6408806                    ⋯ 0.8918067                \n",
       "150 0.9005894                    ⋯ 0.1835412                \n",
       "151 0.7114579                    ⋯ 0.8102370                \n",
       "152 0.4513136                    ⋯ 0.7634173                \n",
       "153 0.3965730                    ⋯ 0.9336866                \n",
       "    Ladder.score.in.Dystopia Explained.by..Log.GDP.per.capita\n",
       "148 1.972317                 0.45716313                      \n",
       "149 1.972317                 0.04107208                      \n",
       "150 1.972317                 0.34324267                      \n",
       "151 1.972317                 0.42556402                      \n",
       "152 1.972317                 0.28908297                      \n",
       "153 1.972317                 0.30070585                      \n",
       "    Explained.by..Social.support Explained.by..Healthy.life.expectancy\n",
       "148 0.8726746                    0.4426779                            \n",
       "149 0.0000000                    0.0000000                            \n",
       "150 0.5228763                    0.5723833                            \n",
       "151 1.0478352                    0.3750376                            \n",
       "152 0.5532785                    0.2088090                            \n",
       "153 0.3564338                    0.2660515                            \n",
       "    Explained.by..Freedom.to.make.life.choices Explained.by..Generosity\n",
       "148 0.50934309                                 0.2715409               \n",
       "149 0.29281446                                 0.2535132               \n",
       "150 0.60408789                                 0.2357050               \n",
       "151 0.37740472                                 0.1513492               \n",
       "152 0.06560925                                 0.2099346               \n",
       "153 0.00000000                                 0.1352347               \n",
       "    Explained.by..Perceptions.of.corruption Dystopia...residual year\n",
       "148 0.203880861                             0.7189634           2020\n",
       "149 0.028264718                             2.8601975           2020\n",
       "150 0.485542476                             0.5484450           2020\n",
       "151 0.080928579                             0.8410311           2020\n",
       "152 0.111156799                             1.3787513           2020\n",
       "153 0.001225785                             1.5072356           2020"
      ]
     },
     "metadata": {},
     "output_type": "display_data"
    }
   ],
   "source": [
    "tail(data_2020)"
   ]
  },
  {
   "cell_type": "code",
   "execution_count": null,
   "id": "b52df22d-d0ec-4c59-a95f-b183126c0b98",
   "metadata": {},
   "outputs": [],
   "source": []
  }
 ],
 "metadata": {
  "kernelspec": {
   "display_name": "R",
   "language": "R",
   "name": "ir"
  },
  "language_info": {
   "codemirror_mode": "r",
   "file_extension": ".r",
   "mimetype": "text/x-r-source",
   "name": "R",
   "pygments_lexer": "r",
   "version": "4.2.1"
  }
 },
 "nbformat": 4,
 "nbformat_minor": 5
}
