{
 "cells": [
  {
   "cell_type": "markdown",
   "id": "8ca18641-5691-4b20-8530-192b75ca5223",
   "metadata": {},
   "source": [
    "# <center><span style=\"color:#9470DA\"><h2>Finding Relationships in Data</h2> <h5>- Project Proposal</h5><h5>Andy Liu, Ian MacCarthy, Xueyue Wang, Shaun Gao</h5></span></center>"
   ]
  },
  {
   "cell_type": "markdown",
   "id": "f1b809a4-c22a-4e9f-8a39-cc1488aafb08",
   "metadata": {},
   "source": [
    "## 0. Temporary Comments"
   ]
  },
  {
   "cell_type": "markdown",
   "id": "a736b3cd-e97e-4dab-a39f-af0204c416bd",
   "metadata": {},
   "source": [
    "> If any. To be deleted before submitting.   </br>\n",
    "> **Look up \"TODO\" for todos.** </br>\n",
    "\n",
    "> Resources links: \n",
    "> 1. [The dataset we use](https://www.kaggle.com/datasets/mathurinache/world-happiness-report?select=2020.csv)\n",
    "> 2. [For variable descriptions](https://www.kaggle.com/datasets/unsdsn/world-happiness)\n",
    "> 3. [World Happiness Report Website](https://worldhappiness.report/)"
   ]
  },
  {
   "cell_type": "markdown",
   "id": "7e902f3b-d972-4f24-82ee-fc6e5ea6dc19",
   "metadata": {},
   "source": [
    "## 1. Source of Data"
   ]
  },
  {
   "cell_type": "markdown",
   "id": "c91b470e-db43-46ba-8fd9-2d69c3ac1ce2",
   "metadata": {},
   "source": [
    "The data that will be used in the report can be downloaded from [**here**](https://www.kaggle.com/datasets/mathurinache/world-happiness-report).   </br>\n",
    "The original data was collected from surveys conducteed by the **Gallup World Poll** using *Cantril Ladder*. (WHR, 2022)."
   ]
  },
  {
   "cell_type": "markdown",
   "id": "a59219aa-06fc-48ec-877e-b40c8bb633cd",
   "metadata": {
    "tags": []
   },
   "source": [
    "## 2. Variables Descriptions"
   ]
  },
  {
   "cell_type": "markdown",
   "id": "62c7b343-7971-4470-b8c8-f3a0d786bfa5",
   "metadata": {},
   "source": [
    "The datasets that will be used are collected in different years, the number of variables vary slightlt.   </br>\n",
    "In this project, however, the variables of interest are as follow:   </br>\n",
    "TODO: add descriptions: \n",
    "1. GDP per capita   </br>\n",
    "2. Healthy Life Expectancy   </br>\n",
    "3. Social support   </br>\n",
    "4. Freedom to make life choices   </br>\n",
    "5. Generosity   </br>\n",
    "6. Corruption Perception   </br>\n",
    "7. Residual error"
   ]
  },
  {
   "cell_type": "markdown",
   "id": "de76b027-5404-4abe-a3b3-375ceddeed73",
   "metadata": {},
   "source": [
    "## 3. (Research Question / Hypothesis / Prediction)   /   (Inspiration)"
   ]
  },
  {
   "cell_type": "markdown",
   "id": "fc36240c-3584-4e85-8ade-5efc72a53aee",
   "metadata": {},
   "source": [
    "TODO </br>\n",
    "possible options: </br>\n",
    "1. **The countries with rankings showed significant differences with previous years, what factors had changed?** \n",
    "    - thus, we are interested in which factor affects the Happiness Score the most.\n",
    "    - further, we might want to know,  in our linear model, the partial correlation between one of the factors and the Happiness Score, while controlling some of the factors. Namely, while controlling other variables, how the variable of interest explains the model result. \n",
    "\n",
    "2. **Are there any linear/quadratic relationship between the factors and the Happiness Score.** \n",
    "\n",
    "3. **Are there countries with peculiar results? e.g. Far away from what our model expected.** "
   ]
  },
  {
   "cell_type": "markdown",
   "id": "519b9b30-6cb7-4fa4-a0d1-0581cb9a627d",
   "metadata": {},
   "source": [
    "## 4. Task Allocations"
   ]
  },
  {
   "cell_type": "markdown",
   "id": "1840d016-a2e1-464e-a323-2819d24d019d",
   "metadata": {},
   "source": [
    "TODO draft:\n",
    "\n",
    "> 1. **Introduction**\n",
    "    - describe data (★)\n",
    "    - motivation of analysis (★)\n",
    "    - research question (★)\n",
    "\n",
    "> 2. **Analysis**\n",
    "    - Ready data (★)\n",
    "        - select columns\n",
    "        - add year column\n",
    "        - combine datasets\n",
    "    - Exploratory analysis\n",
    "        - visualization (★)\n",
    "        - summary statistiics\n",
    "        - hypothesis \n",
    "        - concerns\n",
    "        - methodology (★)\n",
    "    - Fit model\n",
    "        - model description\n",
    "        - summary\n",
    "\n",
    "> 3. **Conclusion**\n",
    "    - Summarize findings (★)\n",
    "    - Conclude on the research question (★)"
   ]
  },
  {
   "cell_type": "markdown",
   "id": "53f84c38-14d3-4e6d-89f9-c61d0ea43609",
   "metadata": {},
   "source": [
    "<span style=\"color:blue\">Expected works are outlined above, and the tasks are assigned as below. Names are in alphabetical order. </span>"
   ]
  },
  {
   "cell_type": "markdown",
   "id": "8ad5841b-6e52-45f7-bf7e-19ac6ce7e80a",
   "metadata": {},
   "source": [
    "TODO: discuss this   </br>\n",
    "Andy:   </br>\n",
    "Ian:   </br>\n",
    "Shaun:   </br>\n",
    "Xueyue: "
   ]
  },
  {
   "cell_type": "markdown",
   "id": "c9b76b6b-dab6-476d-bfa7-93429c4b144b",
   "metadata": {},
   "source": [
    "Expectation (add if any):   </br>\n",
    "Time commitment is key. Group members are expected to finish assigned tasks before an agreed due date (if any).   </br>\n",
    "Everyone is encouraged to be involved in parts other than they are being assigned. </br>\n",
    "The project is expected to be proceeded smoothly and progressively. No rush is expected and the project vibe should be chill."
   ]
  },
  {
   "cell_type": "markdown",
   "id": "d3b86523-90f8-4e5e-9ff5-b18b605c235f",
   "metadata": {},
   "source": [
    "# <center><span style=\"color:#9470DA\">Work Cited</span></center>"
   ]
  },
  {
   "cell_type": "markdown",
   "id": "db9b1a31-3ec2-4efb-a67d-2d25ecccd816",
   "metadata": {},
   "source": [
    "World Happiness Report. 2022. FAQ. Accessed October 27 2022. https://worldhappiness.report/faq/"
   ]
  }
 ],
 "metadata": {
  "kernelspec": {
   "display_name": "R",
   "language": "R",
   "name": "ir"
  },
  "language_info": {
   "codemirror_mode": "r",
   "file_extension": ".r",
   "mimetype": "text/x-r-source",
   "name": "R",
   "pygments_lexer": "r",
   "version": "4.2.1"
  }
 },
 "nbformat": 4,
 "nbformat_minor": 5
}
