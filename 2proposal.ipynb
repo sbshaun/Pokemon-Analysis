{
 "cells": [
  {
   "cell_type": "markdown",
   "metadata": {
    "datalore": {
     "hide_input_from_viewers": false,
     "hide_output_from_viewers": false,
     "node_id": "o0nBNbKZWtZW7btfuzE8TC",
     "report_properties": {},
     "type": "MD"
    },
    "tags": []
   },
   "source": [
    "# <center><h2>Finding Relationships in Data</h2> <h5>- Project Proposal</h5><h5>Andy Liu, Ian MacCarthy, Xueyue Wang, Shaun Gao</h5></center>"
   ]
  },
  {
   "cell_type": "markdown",
   "metadata": {
    "datalore": {
     "hide_input_from_viewers": false,
     "hide_output_from_viewers": false,
     "node_id": "2Y3aQ6zwk56xvQQw7Qx4S3",
     "report_properties": {},
     "type": "MD"
    }
   },
   "source": [
    "## 0. Temporary Comments"
   ]
  },
  {
   "cell_type": "markdown",
   "metadata": {
    "datalore": {
     "hide_input_from_viewers": false,
     "hide_output_from_viewers": false,
     "node_id": "Eujip4KUBXUGcS59WDl5pc",
     "report_properties": {},
     "type": "MD"
    }
   },
   "source": [
    "> If any. To be deleted before submitting.   </br>\n",
    "> **Look up \"TODO\" for todos.** </br>"
   ]
  },
  {
   "cell_type": "markdown",
   "metadata": {
    "datalore": {
     "hide_input_from_viewers": false,
     "hide_output_from_viewers": false,
     "node_id": "Mi6OaNvJ9TsxPApKOkvZVH",
     "report_properties": {},
     "type": "MD"
    }
   },
   "source": [
    "## 1. Source of Data"
   ]
  },
  {
   "cell_type": "markdown",
   "metadata": {
    "datalore": {
     "hide_input_from_viewers": false,
     "hide_output_from_viewers": false,
     "node_id": "32OIYNE9YaeppFzCYdSruQ",
     "report_properties": {},
     "type": "MD"
    }
   },
   "source": [
    "The dataset that will be used in the report can be downloaded from [**here**](https://www.kaggle.com/datasets/rounakbanik/pokemon). This dataset contains information on all 802 Pokemon from all Seven Generations of Pokemon. The information contained in this dataset includes Base Stats, Performance against Other Types, Height, Weight, Classification, Egg Steps, Experience Points, Abilities, etc. The original information was scraped from [**here**](http://serebii.net/).  </br>"
   ]
  },
  {
   "cell_type": "markdown",
   "metadata": {
    "datalore": {
     "hide_input_from_viewers": false,
     "hide_output_from_viewers": false,
     "node_id": "ivILBiZPSfWPtdek3O53MU",
     "report_properties": {},
     "type": "MD"
    }
   },
   "source": [
    "## 2. Variables Descriptions"
   ]
  },
  {
   "cell_type": "markdown",
   "metadata": {
    "datalore": {
     "hide_input_from_viewers": false,
     "hide_output_from_viewers": false,
     "node_id": "HOmenrsWGKAeE4fefTT88d",
     "report_properties": {},
     "type": "MD"
    }
   },
   "source": [
    "The original dataset contains 41 variables. We will be using 7 of them in the report. The variables of interest are chosen as the following:   \n",
    "<!-- 1. **type1**: The Primary Type of the Pokemon.   \n",
    "1. **height_m**: Height of the Pokemon in metres   \n",
    "2. **weight_kg**: The Weight of the Pokemon in kilograms   \n",
    "3. **attack**: The Base Attack of the Pokemon   \n",
    "4. **defense**: The Base Defense of the Pokemon   \n",
    "5. **speed**: The Base Speed of the Pokemon   \n",
    "6. **generation**: The numbered generation which the Pokemon was first introduced   \n",
    "7. **is_legendary**: Denotes if the Pokemon is legendary.    -->\n",
    "\n",
    "| Variable  Name   |      Description      | Variable Type | Unit |\n",
    "|----------|:-------------:|:-------------:|:-------------:|\n",
    "| 1. type1 | The Primary Type of the Pokemon | Categorical | -- |\n",
    "| 2. height_m | Height of the Pokemon in metres | Numerical | Meter(m) |\n",
    "| 3. weight_kg | The Weight of the Pokemon in kilograms  | Numerical | KiloGram(kg) |\n",
    "| 4. attack | The Base Attack of the Pokemon | Numerical | point |\n",
    "| 5. defense | The Base Defense of the Pokemon | Numerical | point |\n",
    "| 6. speed | The Base Speed of the Pokemon | Numerical | meter/second(m/s) |\n",
    "| 7. generation | The numbered generation which the Pokemon was first introduced | Categorical | -- |\n",
    "| 8. is_legendary | Denotes if the Pokemon is legendary | Categorical | -- |"
   ]
  },
  {
   "cell_type": "markdown",
   "metadata": {
    "datalore": {
     "hide_input_from_viewers": false,
     "hide_output_from_viewers": false,
     "node_id": "2qB4to86bJvJRyXkrA5JgT",
     "report_properties": {},
     "type": "MD"
    }
   },
   "source": [
    "## 3. (Research Question / Hypothesis / Prediction)   /   (Inspiration)"
   ]
  },
  {
   "cell_type": "markdown",
   "metadata": {
    "datalore": {
     "hide_input_from_viewers": false,
     "hide_output_from_viewers": false,
     "node_id": "3r1LpKOakUqeqXfsEd2zPT",
     "report_properties": {},
     "type": "MD"
    }
   },
   "source": [
    "After digging into the Pokemon dataset, we noticed that the capture rate varies among pokemons. In that case, we are interested in studying what factors may influence/affect the capture rate of pokemons. Thus, our research question is proposed in the following: </br>\n",
    "> **Is there underlying linear relationship between the capture rate of a pokemon and its attributes: height, weight, speed, is_legendary, attack, defense, type?**"
   ]
  },
  {
   "cell_type": "markdown",
   "metadata": {
    "datalore": {
     "hide_input_from_viewers": false,
     "hide_output_from_viewers": false,
     "node_id": "Zuo3sVIPqfxUEPdCUaQNos",
     "report_properties": {},
     "type": "MD"
    }
   },
   "source": [
    "## 4. Task Allocations"
   ]
  },
  {
   "cell_type": "markdown",
   "metadata": {
    "datalore": {
     "hide_input_from_viewers": false,
     "hide_output_from_viewers": false,
     "node_id": "mntjUmb42MYetEIXQ8dzUl",
     "report_properties": {},
     "type": "MD"
    }
   },
   "source": [
    "> 1. **Introduction**   \n",
    "    - describe data (★)   \n",
    "    - motivation of analysis (★)   \n",
    "    - research question (★)   \n",
    "\n",
    "> 2. **Analysis**   \n",
    "    - Ready data (★)   \n",
    "        - select columns   \n",
    "        - add year column   \n",
    "        - combine datasets   \n",
    "    - Exploratory analysis   \n",
    "        - visualization (★)   \n",
    "        - summary statistiics   \n",
    "        - hypothesis    \n",
    "        - concerns   \n",
    "        - methodology (★)   \n",
    "    - Fit model   \n",
    "        - model description   \n",
    "        - summary   \n",
    "   \n",
    "> 3. **Conclusion**   \n",
    "    - Summarize findings (★)   \n",
    "    - Conclude on the research question (★)   "
   ]
  },
  {
   "cell_type": "markdown",
   "metadata": {
    "datalore": {
     "hide_input_from_viewers": false,
     "hide_output_from_viewers": false,
     "node_id": "IF1OhJf7OFXnhntudl92hp",
     "report_properties": {},
     "type": "MD"
    }
   },
   "source": [
    "<span style=\"color:blue\">Expected works are outlined above, and the tasks are assigned as below. Names are in alphabetical order. </span>"
   ]
  },
  {
   "cell_type": "markdown",
   "metadata": {
    "datalore": {
     "hide_input_from_viewers": true,
     "hide_output_from_viewers": true,
     "node_id": "uc5ViC38snwy3ma432PjRn",
     "type": "MD"
    }
   },
   "source": [
    "**Andy Liu:** Describe data, Exploratory analysis(visualization), Conclude on the research question   \n",
    "**Ian MacCarthy:** Exploratory analysis(methodology), Summarize findings  \n",
    "**Shaun Gao:** Motivation of analysis, Exploratory analysis(summary statistics)    \n",
    "**Xueyue Wang:** Research question, Ready data, Fit model  "
   ]
  },
  {
   "cell_type": "markdown",
   "metadata": {
    "datalore": {
     "hide_input_from_viewers": false,
     "hide_output_from_viewers": false,
     "node_id": "mUxXmBQCIzQrMhtPnBIxWJ",
     "report_properties": {},
     "type": "MD"
    }
   },
   "source": [
    "## 5. Expectation:   </br>\n",
    "Time commitment is key. Group members are expected to finish assigned tasks before an agreed due date (if any).   </br>\n",
    "Everyone is encouraged to be involved in parts other than they are being assigned. </br>\n",
    "The project is expected to be proceeded smoothly and progressively. No rush is expected and the project vibe should be chill."
   ]
  },
  {
   "cell_type": "markdown",
   "metadata": {
    "datalore": {
     "hide_input_from_viewers": false,
     "hide_output_from_viewers": false,
     "node_id": "cNRHOAWGedJbnfyI51diT4",
     "report_properties": {},
     "type": "MD"
    }
   },
   "source": [
    "# <center>Work Cited</center>\n",
    "Banik, R. (2017, September 29). The Complete Pokemon Dataset. Kaggle. Retrieved October 31, 2022, from https://www.kaggle.com/datasets/rounakbanik/pokemon </br>\n",
    "\n",
    "Where legends come to life. Serebii.net Header. (n.d.). Retrieved October 31, 2022, from https://serebii.net/ "
   ]
  }
 ],
 "metadata": {
  "datalore": {
   "base_environment": "default",
   "computation_mode": "JUPYTER",
   "package_manager": "pip",
   "packages": [],
   "version": 1
  },
  "kernelspec": {
   "display_name": "R",
   "language": "R",
   "name": "ir"
  },
  "language_info": {
   "codemirror_mode": "r",
   "file_extension": ".r",
   "mimetype": "text/x-r-source",
   "name": "R",
   "pygments_lexer": "r",
   "version": "4.2.1"
  }
 },
 "nbformat": 4,
 "nbformat_minor": 4
}
