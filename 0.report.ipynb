{
 "cells": [
  {
   "cell_type": "code",
   "execution_count": 1,
   "id": "6ae378d3-7566-447f-8ce5-3d21832dfe88",
   "metadata": {},
   "outputs": [],
   "source": [
    "# Run this to install these packages if they are not installed on your machine\n",
    "# install.packages(\"package_name\")"
   ]
  },
  {
   "cell_type": "markdown",
   "id": "95a773f2-c961-4a69-a406-1274a93cbe29",
   "metadata": {},
   "source": [
    "# <center><h1>Discovring Underlying Factors Affecting The Capture Rates of Pokémons</h1><h5>**Authors** Group C5 (Andy Liu, Ian MacCarthy, Xueyue Wang, Shaun Gao)</h5></center>\n",
    "\n",
    "**Abstract** This looks like an abstract. This sounds, feels, smells like an abstract, this is not an abstract yet but will be. This looks like an abstract. This sounds, feels, smells like an abstract, this is not an abstract yet but will be. This looks like an abstract. This sounds, feels, smells like an abstract, this is not an abstract yet but will be. This looks like an abstract. This sounds, feels, smells like an abstract, this is not an abstract yet but will be. This looks like an abstract. This sounds, feels, smells like an abstract, this is not an abstract yet but will be. \n",
    "\n",
    "<p style=\"display: block; text-align: center;\">\n",
    "    <img style=\"display: block; margin: 0 auto;width:auto;height:137px;\" src=\"https://upload.wikimedia.org/wikipedia/commons/thumb/9/98/International_Pok%C3%A9mon_logo.svg/2880px-International_Pok%C3%A9mon_logo.svg.png\" alt=\"Pokémons\" width=\"50%\" />\n",
    "</p>\n",
    "\n",
    "<p style=\"text-align: center;\"><i>Pokémon</i></p>"
   ]
  },
  {
   "cell_type": "markdown",
   "id": "69defbbd-03f0-4c0f-8874-aaad9032124d",
   "metadata": {},
   "source": [
    "## 1. Introduction"
   ]
  },
  {
   "cell_type": "markdown",
   "id": "3b9908dc-85ca-4db7-b580-e2ed01090b90",
   "metadata": {
    "tags": []
   },
   "source": [
    "### 1.1 Background"
   ]
  },
  {
   "cell_type": "markdown",
   "id": "3653c011-0d39-47c6-83dd-6e8605d160f4",
   "metadata": {},
   "source": [
    "This looks like a background paragraph, this sounds, feels, smells and tastes like a background paragraph, this is not a background paragraph yet but will be. This looks like a background paragraph, this sounds, feels, smells and tastes like a background paragraph, this is not a background paragraph yet but will be. This looks like a background paragraph, this sounds, feels, smells and tastes like a background paragraph, this is not a background paragraph yet but will be. This looks like a background paragraph, this sounds, feels, smells and tastes like a background paragraph, this is not a background paragraph yet but will be. This looks like a background paragraph, this sounds, feels, smells and tastes like a background paragraph, this is not a background paragraph yet but will be. "
   ]
  },
  {
   "cell_type": "markdown",
   "id": "3aa59e5a-43bc-472d-b01d-20da4f0fed55",
   "metadata": {},
   "source": [
    "### 1.2 Question"
   ]
  },
  {
   "cell_type": "markdown",
   "id": "dbb9a1ef-2cc0-4ef7-810a-ba189f7b7a39",
   "metadata": {},
   "source": [
    "This looks like a question, this sounds, feels, tastes like a question, this is not a question yet but will be. This looks like a question, this sounds, feels, tastes like a question, this is not a question yet but will be. This looks like a question, this sounds, feels, tastes like a question, this is not a question yet but will be. "
   ]
  },
  {
   "cell_type": "markdown",
   "id": "103ad7b5-8f83-4709-8498-d9092b5bce89",
   "metadata": {},
   "source": [
    "### 1.3 Dataset"
   ]
  },
  {
   "cell_type": "markdown",
   "id": "43b510d1-588d-44e6-9ad3-bc99482684d4",
   "metadata": {},
   "source": [
    "This shoule be a dataset. This shoule be a dataset. This shoule be a dataset. This shoule be a dataset. This shoule be a dataset. This shoule be a dataset. This shoule be a dataset. "
   ]
  },
  {
   "cell_type": "markdown",
   "id": "54ea3356-37ea-4624-b0af-cce1792f5172",
   "metadata": {},
   "source": [
    "## 2. Preprocessing and EDA"
   ]
  },
  {
   "cell_type": "markdown",
   "id": "493525c3-f9e7-4fe1-bce8-1c90b7d57cc5",
   "metadata": {},
   "source": [
    "> [Data Analysis & Exploratory Data Analysis (EDA)](https://www.statisticshowto.com/probability-and-statistics/data-analysis/)"
   ]
  },
  {
   "cell_type": "markdown",
   "id": "4bfdad40-871b-46a1-b8fe-7929a6a3ea28",
   "metadata": {},
   "source": [
    "### 2.1 Data Cleaning"
   ]
  },
  {
   "cell_type": "code",
   "execution_count": 12,
   "id": "d212ab77-b9ee-4a36-b07c-d6ac18c03cfe",
   "metadata": {},
   "outputs": [],
   "source": [
    "# ready data for use"
   ]
  },
  {
   "cell_type": "markdown",
   "id": "abfe1769-3ba4-4947-9478-2b45a0da70a1",
   "metadata": {},
   "source": [
    "### 2.2 Data Discovery"
   ]
  },
  {
   "cell_type": "code",
   "execution_count": 11,
   "id": "0cef52a2-06b8-4349-9f03-4e978aff54bf",
   "metadata": {},
   "outputs": [],
   "source": [
    "# 1. discover variable types and summary statistics"
   ]
  },
  {
   "cell_type": "markdown",
   "id": "495e8bf1-e41e-475f-becc-c6448aa586d7",
   "metadata": {},
   "source": [
    "### 2.3 Detect Missing Values"
   ]
  },
  {
   "cell_type": "code",
   "execution_count": 6,
   "id": "16d55afa-2c1f-474f-a85c-db6cf189deee",
   "metadata": {},
   "outputs": [],
   "source": [
    "# 1. check if there are N/A or missing values"
   ]
  },
  {
   "cell_type": "markdown",
   "id": "53a21a03-6e57-45c0-8eb1-8e3b2075fd28",
   "metadata": {},
   "source": [
    "### 2.4 Detect Outliers"
   ]
  },
  {
   "cell_type": "code",
   "execution_count": 7,
   "id": "d7db51ba-946f-4b4f-93e2-5af4cc2d50e5",
   "metadata": {},
   "outputs": [],
   "source": [
    "# 1. state the significance of discovering outliers\n",
    "# 2. explore if there is any"
   ]
  },
  {
   "cell_type": "markdown",
   "id": "51824d06-4019-4079-a82e-04c94590a2de",
   "metadata": {},
   "source": [
    "### 2.5 Assumption Checking"
   ]
  },
  {
   "cell_type": "code",
   "execution_count": 13,
   "id": "37b935c8-4a03-4c56-b846-3efac11fe17d",
   "metadata": {},
   "outputs": [],
   "source": [
    "# 1. check normality w Q-Q plots\n",
    "# 2. linearity\n",
    "# ..."
   ]
  },
  {
   "cell_type": "markdown",
   "id": "7ef1870d-ba94-4834-8a26-c91feb51b896",
   "metadata": {
    "tags": []
   },
   "source": [
    "### 2.6 Data Visualizations"
   ]
  },
  {
   "cell_type": "code",
   "execution_count": 9,
   "id": "253dcff2-ca1c-4a18-b662-e9d0e2ddc886",
   "metadata": {},
   "outputs": [],
   "source": [
    "# draw some shit here pls 😉 "
   ]
  },
  {
   "cell_type": "markdown",
   "id": "8833b3c5-55f1-4750-ae23-79236888f220",
   "metadata": {},
   "source": [
    "## 3. Regression Analysis"
   ]
  },
  {
   "cell_type": "markdown",
   "id": "34b106c2-7753-4e51-bd80-1aafc7aa904c",
   "metadata": {},
   "source": [
    "### 3.1 Model Selection"
   ]
  },
  {
   "cell_type": "markdown",
   "id": "6989daa3-abee-4ade-a8a3-6bd8aa43d26e",
   "metadata": {},
   "source": [
    "> $Mallows's C_p$"
   ]
  },
  {
   "cell_type": "markdown",
   "id": "b754aaae-b12f-4b9a-b7b7-67a15046d077",
   "metadata": {},
   "source": [
    "### 3.2 Model Fitting"
   ]
  },
  {
   "cell_type": "code",
   "execution_count": null,
   "id": "a1289ddc-4f0e-483e-b0cf-004fa9526906",
   "metadata": {},
   "outputs": [],
   "source": []
  },
  {
   "cell_type": "markdown",
   "id": "3ff1f90d-e824-4dc4-b7ec-72384d0db0d1",
   "metadata": {},
   "source": [
    "### 3.3 Model Evaluation"
   ]
  },
  {
   "cell_type": "code",
   "execution_count": null,
   "id": "dedb4d7c-d4ec-4944-8557-90cb80c42641",
   "metadata": {},
   "outputs": [],
   "source": []
  },
  {
   "cell_type": "markdown",
   "id": "d59297ed-e0c4-499c-9214-ca61640d6747",
   "metadata": {},
   "source": [
    "### 3.4 Methods"
   ]
  },
  {
   "cell_type": "markdown",
   "id": "6489ad12-0a28-4887-9813-078e975ad1f3",
   "metadata": {},
   "source": [
    "#### Strengths"
   ]
  },
  {
   "cell_type": "markdown",
   "id": "236c904c-5df8-4787-bb56-31807bbf5688",
   "metadata": {},
   "source": []
  },
  {
   "cell_type": "markdown",
   "id": "befe2389-8179-4b16-ac16-5ededda06403",
   "metadata": {
    "tags": []
   },
   "source": [
    "#### Limitations"
   ]
  },
  {
   "cell_type": "markdown",
   "id": "81ad8a24-7285-4ee7-8109-b110fc8f166c",
   "metadata": {},
   "source": []
  },
  {
   "cell_type": "markdown",
   "id": "c3e6a5e9-16f8-45e4-b7d3-623b7617430b",
   "metadata": {},
   "source": [
    "#### Analysis"
   ]
  },
  {
   "cell_type": "markdown",
   "id": "796a9268-b8bc-44f4-87c7-97a940cbcf0f",
   "metadata": {},
   "source": []
  },
  {
   "cell_type": "markdown",
   "id": "d8ae2f09-017c-4b33-b8cb-d2d828227777",
   "metadata": {},
   "source": [
    "## 4. Conclusion"
   ]
  },
  {
   "cell_type": "markdown",
   "id": "a13e36ec-1d2a-423b-84f4-fe0ad8adf10f",
   "metadata": {},
   "source": [
    "A whole summary of findings and reflections..."
   ]
  },
  {
   "cell_type": "markdown",
   "id": "a4abfb96-89fd-4ac5-b3d8-bc211e617e5b",
   "metadata": {},
   "source": [
    "# <center>Work Cited</center>\n",
    "Banik, R. (2017, September 29). The Complete Pokemon Dataset. Kaggle. Retrieved October 31, 2022, from https://www.kaggle.com/datasets/rounakbanik/pokemon </br>\n",
    "\n",
    "Where legends come to life. Serebii.net Header. (n.d.). Retrieved October 31, 2022, from https://serebii.net/ "
   ]
  },
  {
   "cell_type": "code",
   "execution_count": null,
   "id": "abfbf57d-6918-4259-8868-ee117d8881e4",
   "metadata": {},
   "outputs": [],
   "source": []
  }
 ],
 "metadata": {
  "kernelspec": {
   "display_name": "R",
   "language": "R",
   "name": "ir"
  },
  "language_info": {
   "codemirror_mode": "r",
   "file_extension": ".r",
   "mimetype": "text/x-r-source",
   "name": "R",
   "pygments_lexer": "r",
   "version": "4.2.1"
  }
 },
 "nbformat": 4,
 "nbformat_minor": 5
}
